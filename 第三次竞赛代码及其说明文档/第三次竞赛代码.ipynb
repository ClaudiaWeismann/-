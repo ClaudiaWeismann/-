{
 "cells": [
  {
   "cell_type": "code",
   "execution_count": 1,
   "metadata": {
    "colab": {
     "base_uri": "https://localhost:8080/",
     "height": 34
    },
    "colab_type": "code",
    "id": "Bqe4De-SaUKT",
    "outputId": "33d0a2a8-7fd6-4b7c-e019-591a87a3f4d7"
   },
   "outputs": [
    {
     "name": "stdout",
     "output_type": "stream",
     "text": [
      "replace /content/train/train/00175.jpg? [y]es, [n]o, [A]ll, [N]one, [r]ename: "
     ]
    }
   ],
   "source": [
    "!unzip /content/train.zip -d /content/train > etc\\null"
   ]
  },
  {
   "cell_type": "code",
   "execution_count": 0,
   "metadata": {
    "colab": {
     "base_uri": "https://localhost:8080/",
     "height": 46
    },
    "colab_type": "code",
    "id": "ghVLArZBhEae",
    "outputId": "4ee315f1-9c50-46b3-f019-ad3871daa333"
   },
   "outputs": [
    {
     "name": "stdout",
     "output_type": "stream",
     "text": [
      "replace /content/test/test/0.jpg? [y]es, [n]o, [A]ll, [N]one, [r]ename: "
     ]
    }
   ],
   "source": [
    "!unzip /content/test.zip -d /content/test > etc\\null"
   ]
  },
  {
   "cell_type": "code",
   "execution_count": 0,
   "metadata": {
    "colab": {},
    "colab_type": "code",
    "id": "PNAKgO9UBE6h"
   },
   "outputs": [],
   "source": [
    "!unzip /content/verif.zip -d /content/verif > etc\\null"
   ]
  },
  {
   "cell_type": "code",
   "execution_count": 0,
   "metadata": {
    "colab": {},
    "colab_type": "code",
    "id": "9fGf_j-XhgQA"
   },
   "outputs": [],
   "source": [
    "import os\n",
    "import cv2\n",
    "import torch as t\n",
    "import torchvision\n",
    "from PIL import Image\n",
    "from torch.utils.data import Dataset\n",
    "\n",
    "PATH_Train = '/content/train/train'\n",
    "PATH_Test = '/content/test/test'\n",
    "PATH_Verif = '/content/verif/verif'\n",
    "end_epoch = 110"
   ]
  },
  {
   "cell_type": "markdown",
   "metadata": {
    "colab_type": "text",
    "id": "gvVT8wGYNAw5"
   },
   "source": [
    "# 自定义正确率函数"
   ]
  },
  {
   "cell_type": "code",
   "execution_count": 0,
   "metadata": {
    "colab": {},
    "colab_type": "code",
    "id": "bvMFNhDcnH2h"
   },
   "outputs": [],
   "source": [
    "#正确率函数\n",
    "def accuracy_rate(pre,tru):\n",
    "    num = 0\n",
    "    den = 0\n",
    "    for x,y in zip(pre,tru):\n",
    "        den+=1\n",
    "        if x == y:\n",
    "            num+=1\n",
    "    return num/den"
   ]
  },
  {
   "cell_type": "markdown",
   "metadata": {
    "colab_type": "text",
    "id": "FlaqSAmlNV8I"
   },
   "source": [
    "# one-hot编码解码函数"
   ]
  },
  {
   "cell_type": "code",
   "execution_count": 0,
   "metadata": {
    "colab": {},
    "colab_type": "code",
    "id": "2jRiVcfzAmPU"
   },
   "outputs": [],
   "source": [
    "import numpy as np\n",
    "\n",
    "\n",
    "def encode(text):\n",
    "    text = list(text)\n",
    "    vector = np.zeros(62 * 5, dtype=float)\n",
    "    def char2pos(c):\n",
    "        if c == '_':\n",
    "            k = 62\n",
    "            return k\n",
    "        k = ord(c) - 48\n",
    "        if k > 9:\n",
    "            k = ord(c) - 65 + 10\n",
    "            if k > 35:\n",
    "                k = ord(c) - 97 + 26 + 10\n",
    "                if k > 61:\n",
    "                    raise ValueError('error')\n",
    "        return k\n",
    "\n",
    "    for i, c in enumerate(text):\n",
    "        idx = i * 62 + char2pos(c)\n",
    "        # print(idx)\n",
    "        vector[idx] = 1.0\n",
    "    return vector\n",
    "\n",
    "\n",
    "import numpy as np\n",
    "def decode(code):\n",
    "    code = code.data.cpu().numpy()\n",
    "    text = []\n",
    "    for i in range(0,5):\n",
    "        one_char = code[62*i : 62*(i+1)]\n",
    "        char_idx = np.argmax(one_char)\n",
    "        if char_idx < 10:\n",
    "            char_code = char_idx + ord('0')\n",
    "        elif char_idx < 36:\n",
    "            char_code = char_idx - 10 + ord('A')\n",
    "        elif char_idx < 62:\n",
    "            char_code = char_idx - 36 + ord('a')\n",
    "        elif char_idx == 62:\n",
    "            char_code = ord('_')\n",
    "        else:\n",
    "            raise ValueError('error')\n",
    "        text.append(chr(char_code))\n",
    "    return \"\".join(text)\n",
    "\n",
    "\n",
    "# def pro2code(pro):\n",
    "#     code = t.zeros(62 * 5)\n",
    "#     for i in range(0,5):\n",
    "#         one_char = code[62*i : 62*(i+1)]\n",
    "#         char_idx = np.argmax(one_char.numpy())\n",
    "#         code[char_idx + 62*i] = 1.0\n",
    "#     return code\n"
   ]
  },
  {
   "cell_type": "markdown",
   "metadata": {
    "colab_type": "text",
    "id": "ouEh7F-znNcE"
   },
   "source": [
    "# 编写验证码类：训练类测试类"
   ]
  },
  {
   "cell_type": "code",
   "execution_count": 0,
   "metadata": {
    "colab": {},
    "colab_type": "code",
    "id": "rSMaJFv5nJzt"
   },
   "outputs": [],
   "source": [
    "from torchvision import transforms as T\n",
    "from torch.utils.data import DataLoader\n",
    "from torchvision.datasets import ImageFolder\n",
    "\n",
    "class vc_train(Dataset):\n",
    "    def __init__(self, root, transfroms = None):\n",
    "        files = os.listdir(root)\n",
    "        self.img = [image for image in files if image.endswith('.jpg')]\n",
    "        self.images = [os.path.join(root,image) for image in self.img]\n",
    "        self.transfroms = transfroms\n",
    "        \n",
    "    def __getitem__(self, index):\n",
    "        image_path = self.images[index]\n",
    "        label = self.img[index].split('.')[0]\n",
    "        label = t.Tensor(encode(label))\n",
    "        pil_image = Image.open(image_path)\n",
    "        \n",
    "        if self.transfroms: # 如果有这个参数则这么处理\n",
    "            data = self.transfroms(pil_image)\n",
    "        else:\n",
    "            image_array = np.asarray(pil_image)\n",
    "            data = torch.from_numpy(image_array)\n",
    "        return data,label\n",
    "    \n",
    "    def __len__(self):\n",
    "        return len(self.images)\n",
    "\n",
    "class vc_test(Dataset):\n",
    "    def __init__(self, root, transfroms = None):\n",
    "        files = os.listdir(root)\n",
    "        self.img = [image for image in files if image.endswith('.jpg')]\n",
    "        self.images = [os.path.join(root,image) for image in self.img]\n",
    "        self.transfroms = transfroms\n",
    "        \n",
    "    def __getitem__(self, index):\n",
    "        image_path = self.images[index]\n",
    "        pil_image = Image.open(image_path)\n",
    "        \n",
    "        if self.transfroms: # 如果有这个参数则这么处理\n",
    "            data = self.transfroms(pil_image)\n",
    "        else:\n",
    "            image_array = np.asarray(pil_image)\n",
    "            data = torch.from_numpy(image_array)\n",
    "        return data\n",
    "    \n",
    "    def __len__(self):\n",
    "        return len(self.images)class vc_test(Dataset):\n",
    "    def __init__(self, root, transfroms = None):\n",
    "        files = os.listdir(root)\n",
    "        self.img = [image for image in files if image.endswith('.jpg')]\n",
    "        self.images = [os.path.join(root,image) for image in self.img]\n",
    "        self.transfroms = transfroms\n",
    "        \n",
    "    def __getitem__(self, index):\n",
    "        image_path = self.images[index]\n",
    "        pil_image = Image.open(image_path)\n",
    "        \n",
    "        if self.transfroms: # 如果有这个参数则这么处理\n",
    "            data = self.transfroms(pil_image)\n",
    "        else:\n",
    "            image_array = np.asarray(pil_image)\n",
    "            data = torch.from_numpy(image_array)\n",
    "        return data\n",
    "    \n",
    "    def __len__(self):\n",
    "        return len(self.images)"
   ]
  },
  {
   "cell_type": "markdown",
   "metadata": {
    "colab_type": "text",
    "id": "_AwxD6mMNlFk"
   },
   "source": [
    "# 加载训练集"
   ]
  },
  {
   "cell_type": "code",
   "execution_count": 0,
   "metadata": {
    "colab": {},
    "colab_type": "code",
    "id": "ACu61LNRpXat"
   },
   "outputs": [],
   "source": [
    "transfrom = T.Compose({\n",
    "    T.ToTensor()\n",
    "})\n",
    "\n",
    "dataset = vc_train(PATH_Train,transfroms=transfrom)\n",
    "\n",
    "\n",
    "dataloader = DataLoader(dataset, batch_size=64, shuffle=True,\n",
    "                        num_workers=0, drop_last=False)\n",
    "\n",
    "next(enumerate(dataloader))"
   ]
  },
  {
   "cell_type": "markdown",
   "metadata": {
    "colab_type": "text",
    "id": "jTldkiCbNsWj"
   },
   "source": [
    "# 加载验证集"
   ]
  },
  {
   "cell_type": "code",
   "execution_count": 0,
   "metadata": {
    "colab": {},
    "colab_type": "code",
    "id": "kaG7ydahAbht"
   },
   "outputs": [],
   "source": [
    "transfrom = T.Compose({\n",
    "    T.ToTensor()\n",
    "})\n",
    "\n",
    "verifset = vc_train(PATH_Verif,transfroms=transfrom)\n",
    "\n",
    "\n",
    "verifloader = DataLoader(verifset, batch_size=1024, shuffle=True,\n",
    "                        num_workers=0, drop_last=True)\n",
    "\n",
    "verif_idx,(verif_x,verif_y) = next(enumerate(dataloader))"
   ]
  },
  {
   "cell_type": "markdown",
   "metadata": {
    "colab_type": "text",
    "id": "mq6zJRKqNrUb"
   },
   "source": [
    "# 继承残差网络34，编写保存加载函数"
   ]
  },
  {
   "cell_type": "code",
   "execution_count": 0,
   "metadata": {
    "colab": {},
    "colab_type": "code",
    "id": "IE7wRqIqphXk"
   },
   "outputs": [],
   "source": [
    "from torchvision import models\n",
    "from torch import nn\n",
    "\n",
    "class RES34(nn.Module):\n",
    "    def __init__(self):\n",
    "        super(RES34, self).__init__()\n",
    "        self.num_cls = 62 * 5\n",
    "        self.base = torchvision.models.resnet34(pretrained=False)\n",
    "        self.base.fc = nn.Linear(self.base.fc.in_features, self.num_cls)\n",
    "    def forward(self, x):\n",
    "        x = self.base(x)\n",
    "        return x\n",
    "    def save(self):\n",
    "        name = \"net_new.pth\"\n",
    "        t.save(self.state_dict(), name)\n",
    "\n",
    "    def loadIfExist(self):\n",
    "        fileList = os.listdir(\"./\")\n",
    "        # print(fileList)\n",
    "        if \"net_new.pth\" in fileList:\n",
    "            name = \"net_new.pth\"\n",
    "            self.load_state_dict(t.load(name))\n",
    "            print(\"the latest model has been load\")\n"
   ]
  },
  {
   "cell_type": "markdown",
   "metadata": {
    "colab_type": "text",
    "id": "W2KDWxQLN71U"
   },
   "source": [
    "# 实例化残差网络"
   ]
  },
  {
   "cell_type": "code",
   "execution_count": 0,
   "metadata": {
    "colab": {},
    "colab_type": "code",
    "id": "CKp1L1h60aO_"
   },
   "outputs": [],
   "source": [
    "from torchvision.models import AlexNet\n",
    "from torch import nn, optim\n",
    "\n",
    "model = RES34()\n",
    "model.loadIfExist()\n",
    "if t.cuda.is_available():\n",
    "  model = model.cuda()\n",
    "  \n",
    "# print(model)"
   ]
  },
  {
   "cell_type": "markdown",
   "metadata": {
    "colab_type": "text",
    "id": "cu7UWA8xON2k"
   },
   "source": [
    "# 设置loss计算函数和优化器，反向传播"
   ]
  },
  {
   "cell_type": "code",
   "execution_count": 0,
   "metadata": {
    "colab": {},
    "colab_type": "code",
    "id": "wEnXURb7ppK8"
   },
   "outputs": [],
   "source": [
    "from torch.nn.functional import binary_cross_entropy_with_logits\n",
    "from torch.nn import functional as F\n",
    "import torch as t\n",
    "from torch import nn\n",
    "import numpy as np\n",
    "\n",
    "criterion = nn.MultiLabelSoftMarginLoss()\n",
    "optimizer = optim.Adam(model.parameters(), lr=0.001)\n",
    "tru = [decode(i) for i in verif_y]\n",
    "\n",
    "for epoch in range(0, end_epoch):\n",
    "    for batch_idx,(x,label) in enumerate(dataloader):\n",
    "        # 前向传播\n",
    "        x = x.cuda()\n",
    "        label = label.cuda()\n",
    "        y_pred = model(x).cuda()\n",
    "\n",
    "        # 计算损失\n",
    "        loss = criterion(y_pred,label)\n",
    "\n",
    "        # 计算正确率 \n",
    "        verif_x, verif_y = verif_x.cuda(), verif_y.cuda()\n",
    "        verif_pred = model(x)\n",
    "        pre = [decode(i) for i in verif_pred]\n",
    "        train_correct = accuracy_rate(pre,tru)\n",
    "\n",
    "        \n",
    "        if batch_idx % 100 == 0:\n",
    "          print('\\n第%d个epoch 第%d索引的loss:'%(epoch+1,batch_idx) ,loss,'验证集正确率：',train_correct)\n",
    "        \n",
    "        optimizer.zero_grad()\n",
    "\n",
    "        #反向传播\n",
    "        loss.backward()\n",
    "\n",
    "        optimizer.step()"
   ]
  },
  {
   "cell_type": "markdown",
   "metadata": {
    "colab_type": "text",
    "id": "81yggK8PONMr"
   },
   "source": [
    "# 保存网络"
   ]
  },
  {
   "cell_type": "code",
   "execution_count": 0,
   "metadata": {
    "colab": {},
    "colab_type": "code",
    "id": "xTj7wn7jcVp_"
   },
   "outputs": [],
   "source": [
    " model.save()"
   ]
  },
  {
   "cell_type": "markdown",
   "metadata": {
    "colab_type": "text",
    "id": "Or-kvCbNOmsG"
   },
   "source": [
    "# 加载测试集"
   ]
  },
  {
   "cell_type": "code",
   "execution_count": 0,
   "metadata": {
    "colab": {},
    "colab_type": "code",
    "id": "pY22wf_Fpzna"
   },
   "outputs": [],
   "source": [
    "transfrom = T.Compose({\n",
    "    T.ToTensor()\n",
    "})\n",
    "\n",
    "\n",
    "\n",
    "testset = vc_test(PATH_Test,transfroms=transfrom)\n",
    "\n",
    "\n",
    "testloader = DataLoader(testset, batch_size=64, shuffle=True,num_workers=0, drop_last=False)\n",
    "\n",
    "next(enumerate(testloader))"
   ]
  },
  {
   "cell_type": "markdown",
   "metadata": {
    "colab_type": "text",
    "id": "9t2YxzCROtv0"
   },
   "source": [
    "# 加载模型预测测试集"
   ]
  },
  {
   "cell_type": "code",
   "execution_count": 0,
   "metadata": {
    "colab": {},
    "colab_type": "code",
    "id": "Vy8iaC3Pp0Zh"
   },
   "outputs": [],
   "source": [
    "import numpy as np\n",
    "\n",
    "result = []\n",
    "model = RES34().cuda()\n",
    "model.loadIfExist()\n",
    "for batch_idx,x in enumerate(testloader):\n",
    "    x = x.cuda()\n",
    "    y_pred = model(x)\n",
    "    pred = [decode(i) for i in y_pred]\n",
    "    result += pred"
   ]
  },
  {
   "cell_type": "markdown",
   "metadata": {
    "colab_type": "text",
    "id": "wo0liks7OyZL"
   },
   "source": [
    "# 保存并查看结果"
   ]
  },
  {
   "cell_type": "code",
   "execution_count": 0,
   "metadata": {
    "colab": {},
    "colab_type": "code",
    "id": "X6Ba0aRm0Sae"
   },
   "outputs": [],
   "source": [
    "import pandas as pd\n",
    "\n",
    "id_y = np.arange(20000).reshape((-1,1))\n",
    "\n",
    "# 将预测结果制作成DataFrame形式便于查看\n",
    "result_df = pd.DataFrame(id_y,columns=['id'],dtype='int32')\n",
    "\n",
    "result_df['y'] = pd.Series(result)\n",
    "\n",
    "result_df.to_csv('submit_test.csv',index=False, sep=',')\n",
    "\n",
    "\n",
    "# 输出预测结果\n",
    "print('预测结果：')\n",
    "result_df\n"
   ]
  },
  {
   "cell_type": "code",
   "execution_count": 0,
   "metadata": {
    "colab": {},
    "colab_type": "code",
    "id": "hSI_dbDUd0wA"
   },
   "outputs": [],
   "source": [
    " "
   ]
  },
  {
   "cell_type": "code",
   "execution_count": 0,
   "metadata": {
    "colab": {},
    "colab_type": "code",
    "id": "SPKu6J_Mq997"
   },
   "outputs": [],
   "source": []
  }
 ],
 "metadata": {
  "accelerator": "GPU",
  "colab": {
   "collapsed_sections": [],
   "name": "第三次竞赛代码.ipynb",
   "provenance": []
  },
  "kernelspec": {
   "display_name": "Python 3",
   "language": "python",
   "name": "python3"
  },
  "language_info": {
   "codemirror_mode": {
    "name": "ipython",
    "version": 3
   },
   "file_extension": ".py",
   "mimetype": "text/x-python",
   "name": "python",
   "nbconvert_exporter": "python",
   "pygments_lexer": "ipython3",
   "version": "3.7.0"
  }
 },
 "nbformat": 4,
 "nbformat_minor": 1
}
